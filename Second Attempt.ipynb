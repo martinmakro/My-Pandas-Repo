{
 "cells": [
  {
   "cell_type": "code",
   "execution_count": 1,
   "id": "d55b3a9e-7831-4cf5-9608-0e0bc04948bc",
   "metadata": {},
   "outputs": [],
   "source": [
    "import pandas as pd"
   ]
  },
  {
   "cell_type": "code",
   "execution_count": 1,
   "id": "2e9b4aca-b786-4947-a03c-d15b79d3f777",
   "metadata": {},
   "outputs": [
    {
     "name": "stdout",
     "output_type": "stream",
     "text": [
      "      Type      Continent\n",
      "1     wolf         Europe\n",
      "2   jaguar  South America\n",
      "3  buffalo  North America\n",
      "4      emu      Australia\n",
      "5    panda           Asia\n",
      "6     lion         Africa\n"
     ]
    }
   ],
   "source": [
    "import pandas as pd\n",
    "\n",
    "animals_list = [\n",
    "    [\"wolf\", \"Europe\"],\n",
    "    [\"jaguar\", \"South America\"],\n",
    "    [\"buffalo\", \"North America\"],\n",
    "    [\"emu\", \"Australia\"],\n",
    "    [\"panda\", \"Asia\"],\n",
    "    [\"lion\", \"Africa\"]\n",
    "]\n",
    "\n",
    "df = pd.DataFrame(animals_list, columns=['Type', 'Continent'])\n",
    "df.index += 1\n",
    "print(df)\n"
   ]
  },
  {
   "cell_type": "code",
   "execution_count": 3,
   "id": "bd701840-1d32-46ca-bcf3-53a39781e4b1",
   "metadata": {},
   "outputs": [
    {
     "name": "stdout",
     "output_type": "stream",
     "text": [
      "               Type                       Author\n",
      "1        Kate Quinn                 The Huntress\n",
      "2  Stefanie Pintoff                Hostage Taker\n",
      "3         Kate Moss         The Burning Chambers\n",
      "4    Angela Marsons                Silent Scream\n",
      "5        Ken Follet  The Evening and the Morning\n"
     ]
    }
   ],
   "source": [
    "books_list = [\n",
    "    [\"Kate Quinn\", \"The Huntress\"],\n",
    "     [\"Stefanie Pintoff\", \"Hostage Taker\"],\n",
    "     [\"Kate Moss\",\"The Burning Chambers\"],\n",
    "     [\"Angela Marsons\", \"Silent Scream\"],\n",
    "     [\"Ken Follet\", \"The Evening and the Morning\"]\n",
    "]\n",
    "\n",
    "df = pd.DataFrame(books_list, columns=['Type', 'Author'])\n",
    "df.index += 1\n",
    "print(df)"
   ]
  },
  {
   "cell_type": "code",
   "execution_count": 5,
   "id": "7f5b02b7-f7b5-4cd9-8025-4bef49c266d9",
   "metadata": {},
   "outputs": [
    {
     "data": {
      "text/plain": [
       "VBA          Monday\n",
       "Java        Tuesday\n",
       "Pandas    Wednesday\n",
       "SQL        Thursday\n",
       "Jira         Friday\n",
       "dtype: object"
      ]
     },
     "execution_count": 5,
     "metadata": {},
     "output_type": "execute_result"
    }
   ],
   "source": [
    "days =['Monday','Tuesday','Wednesday','Thursday','Friday']\n",
    "tasks =['VBA','Java','Pandas','SQL','Jira']\n",
    "pd.Series(days,tasks)"
   ]
  },
  {
   "cell_type": "code",
   "execution_count": null,
   "id": "1542173e-c9cb-4e76-90ca-442b36e27ff6",
   "metadata": {},
   "outputs": [],
   "source": []
  }
 ],
 "metadata": {
  "kernelspec": {
   "display_name": "Python [conda env:base] *",
   "language": "python",
   "name": "conda-base-py"
  },
  "language_info": {
   "codemirror_mode": {
    "name": "ipython",
    "version": 3
   },
   "file_extension": ".py",
   "mimetype": "text/x-python",
   "name": "python",
   "nbconvert_exporter": "python",
   "pygments_lexer": "ipython3",
   "version": "3.12.7"
  }
 },
 "nbformat": 4,
 "nbformat_minor": 5
}
